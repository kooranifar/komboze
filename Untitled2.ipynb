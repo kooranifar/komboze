{
 "cells": [
  {
   "cell_type": "code",
   "execution_count": null,
   "metadata": {},
   "outputs": [
    {
     "name": "stdout",
     "output_type": "stream",
     "text": [
      "37\n",
      "151650\n",
      "here\n"
     ]
    },
    {
     "name": "stderr",
     "output_type": "stream",
     "text": [
      "/home/bahar/.local/lib/python3.6/site-packages/ipykernel_launcher.py:45: SettingWithCopyWarning: \n",
      "A value is trying to be set on a copy of a slice from a DataFrame.\n",
      "Try using .loc[row_indexer,col_indexer] = value instead\n",
      "\n",
      "See the caveats in the documentation: http://pandas.pydata.org/pandas-docs/stable/user_guide/indexing.html#returning-a-view-versus-a-copy\n",
      "/usr/lib/python3/dist-packages/numexpr/cpuinfo.py:42: UserWarning: [Errno 12] Cannot allocate memory\n",
      "  warnings.warn(str(e), UserWarning, stacklevel=stacklevel)\n"
     ]
    },
    {
     "name": "stdout",
     "output_type": "stream",
     "text": [
      "151938\n",
      "here\n"
     ]
    },
    {
     "name": "stderr",
     "output_type": "stream",
     "text": [
      "/home/bahar/.local/lib/python3.6/site-packages/ipykernel_launcher.py:45: SettingWithCopyWarning: \n",
      "A value is trying to be set on a copy of a slice from a DataFrame.\n",
      "Try using .loc[row_indexer,col_indexer] = value instead\n",
      "\n",
      "See the caveats in the documentation: http://pandas.pydata.org/pandas-docs/stable/user_guide/indexing.html#returning-a-view-versus-a-copy\n"
     ]
    },
    {
     "name": "stdout",
     "output_type": "stream",
     "text": [
      "171024\n",
      "here\n",
      "171025\n",
      "here\n",
      "187341\n",
      "here\n",
      "188283\n",
      "here\n",
      "192056\n",
      "here\n",
      "197052\n",
      "here\n",
      "198557\n",
      "here\n",
      "200025\n",
      "here\n",
      "204162\n",
      "here\n",
      "206165\n",
      "here\n",
      "212548\n",
      "here\n",
      "219753\n",
      "here\n",
      "223006\n",
      "here\n",
      "225670\n",
      "here\n",
      "225899\n",
      "here\n",
      "228917\n",
      "here\n",
      "229027\n",
      "here\n",
      "231686\n",
      "here\n",
      "234025\n",
      "here\n",
      "235002\n",
      "here\n",
      "235088\n",
      "here\n",
      "237789\n",
      "here\n",
      "240394\n",
      "here\n",
      "240823\n",
      "here\n",
      "241072\n",
      "here\n",
      "241231\n",
      "here\n",
      "243745\n",
      "here\n",
      "243751\n",
      "here\n",
      "243753\n",
      "here\n",
      "243775\n",
      "here\n",
      "243861\n",
      "here\n",
      "243918\n",
      "here\n",
      "243931\n",
      "here\n",
      "243935\n",
      "here\n",
      "243946\n",
      "here\n",
      "243949\n",
      "here\n",
      "243953\n",
      "here\n",
      "243967\n",
      "here\n",
      "243980\n",
      "here\n",
      "243983\n",
      "here\n",
      "243985\n",
      "here\n",
      "243996\n",
      "here\n",
      "243999\n",
      "here\n",
      "244003\n",
      "here\n",
      "244008\n",
      "here\n",
      "244009\n",
      "here\n",
      "244024\n",
      "here\n",
      "244025\n",
      "here\n",
      "244032\n",
      "here\n",
      "244037\n",
      "here\n",
      "244040\n",
      "here\n",
      "244045\n",
      "here\n",
      "244053\n",
      "here\n",
      "244057\n",
      "here\n",
      "244064\n",
      "here\n",
      "244067\n",
      "here\n",
      "244068\n",
      "here\n",
      "244069\n",
      "here\n",
      "244079\n",
      "here\n",
      "244083\n",
      "here\n",
      "244089\n",
      "here\n",
      "244108\n",
      "here\n",
      "244109\n",
      "here\n",
      "244112\n",
      "here\n",
      "244123\n",
      "here\n",
      "244126\n",
      "here\n",
      "244128\n",
      "here\n",
      "244130\n",
      "here\n",
      "244132\n",
      "here\n",
      "244138\n",
      "here\n",
      "244150\n",
      "here\n",
      "244170\n",
      "here\n",
      "244180\n",
      "here\n",
      "244184\n",
      "here\n",
      "244185\n",
      "here\n",
      "244190\n",
      "here\n",
      "244199\n",
      "here\n",
      "244200\n",
      "here\n",
      "244201\n",
      "here\n",
      "244206\n",
      "here\n",
      "244207\n",
      "here\n",
      "244210\n",
      "here\n"
     ]
    }
   ],
   "source": [
    "import pandas as pd  \n",
    "import matplotlib.pyplot as plt\n",
    "from sklearn.tree import DecisionTreeClassifier\n",
    "\n",
    "df1 = pd.read_csv('click_train.csv')\n",
    "test_df = pd.read_csv('click_test.csv')\n",
    "\n",
    "step=100000\n",
    "train_list=[]\n",
    "i=0\n",
    "while i+step<df1.shape[0]:\n",
    "    train_list.append(df1.loc[i:i+step, :])\n",
    "    i+=step\n",
    "train_list.append(df1.loc[i:,:])\n",
    "clicks = []\n",
    "print(len(train_list))\n",
    "j=0\n",
    "while j<len(train_list):\n",
    "    #print(j)\n",
    "    df = train_list[j].drop(['clicked'], axis=1)\n",
    "    target = train_list[j]['clicked']\n",
    "    dtc = DecisionTreeClassifier()\n",
    "    dtc.fit(df,target)\n",
    "    pr = dtc.predict(test_df)\n",
    "    clicks.append(pr)\n",
    "    j+=1\n",
    "\n",
    "for k in  range (0, len(clicks)):\n",
    "    string='clicked_%s'%k\n",
    "    test_df[string]=clicks[k]\n",
    "    \n",
    "new_df=test_df.drop(['displayId'], axis=1)\n",
    "new_df=new_df.drop(['adId'], axis=1)\n",
    "\n",
    "test_df['average']=new_df.mean(numeric_only=True, axis=1)\n",
    "test_df['rank'] = [0]*test_df.shape[0]\n",
    "\n",
    "displayids = test_df['displayId'].unique()\n",
    "\n",
    "\n",
    "for i in displayids:\n",
    "    print(i)\n",
    "    tmp = test_df[test_df['displayId']==i]\n",
    "    print(\"here\")\n",
    "    tmp['rank'] = tmp.average.rank(method='first')\n",
    "    test_df.update(tmp)\n",
    "\n",
    "\n",
    "\n",
    "test_df"
   ]
  },
  {
   "cell_type": "code",
   "execution_count": 5,
   "metadata": {},
   "outputs": [
    {
     "data": {
      "text/plain": [
       "(3642244, 3)"
      ]
     },
     "execution_count": 5,
     "metadata": {},
     "output_type": "execute_result"
    }
   ],
   "source": [
    "import pandas as pd  \n",
    "import matplotlib.pyplot as plt\n",
    "\n",
    "df1 = pd.read_csv('click_train.csv')\n",
    "df1.shape\n"
   ]
  },
  {
   "cell_type": "code",
   "execution_count": 11,
   "metadata": {},
   "outputs": [
    {
     "data": {
      "text/plain": [
       "False    812303\n",
       "True     270768\n",
       "Name: displayId, dtype: int64"
      ]
     },
     "execution_count": 11,
     "metadata": {},
     "output_type": "execute_result"
    }
   ],
   "source": [
    "import pandas as pd  \n",
    "\n",
    "df1 = pd.read_csv('click_test.csv')\n",
    "df2 = pd.read_csv('event.csv')\n",
    "\n",
    "df2['displayId'].isin(df1['displayId']).value_counts()"
   ]
  },
  {
   "cell_type": "code",
   "execution_count": 23,
   "metadata": {},
   "outputs": [
    {
     "name": "stdout",
     "output_type": "stream",
     "text": [
      "found!\n",
      "1080484\n"
     ]
    },
    {
     "data": {
      "text/plain": [
       "(1083071, 8)"
      ]
     },
     "execution_count": 23,
     "metadata": {},
     "output_type": "execute_result"
    }
   ],
   "source": [
    "import pandas as pd  \n",
    "\n",
    "df1 = pd.read_csv('click_test.csv')\n",
    "df2 = pd.read_csv('event.csv')\n",
    "\n",
    "j=-1\n",
    "for i in df2['displayId']:\n",
    "    j+=1\n",
    "    if i==151650:\n",
    "        print(\"found!\")\n",
    "        print(j)\n",
    "        break\n",
    "        \n",
    "df2.iloc[j, :]\n",
    "df2.shape"
   ]
  },
  {
   "cell_type": "code",
   "execution_count": null,
   "metadata": {},
   "outputs": [],
   "source": []
  }
 ],
 "metadata": {
  "kernelspec": {
   "display_name": "Python 3",
   "language": "python",
   "name": "python3"
  },
  "language_info": {
   "codemirror_mode": {
    "name": "ipython",
    "version": 3
   },
   "file_extension": ".py",
   "mimetype": "text/x-python",
   "name": "python",
   "nbconvert_exporter": "python",
   "pygments_lexer": "ipython3",
   "version": "3.6.8"
  }
 },
 "nbformat": 4,
 "nbformat_minor": 2
}
